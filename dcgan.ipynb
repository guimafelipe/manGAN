{
 "cells": [
  {
   "cell_type": "code",
   "execution_count": 15,
   "metadata": {
    "collapsed": true
   },
   "outputs": [],
   "source": [
    "import warnings\n",
    "warnings.filterwarnings('ignore')"
   ]
  },
  {
   "cell_type": "code",
   "execution_count": 16,
   "metadata": {
    "collapsed": false
   },
   "outputs": [],
   "source": [
    "import tensorflow as tf\n",
    "tf.reset_default_graph()\n",
    "\n",
    "import numpy as np\n",
    "import matplotlib.pyplot as plt\n",
    "%matplotlib inline"
   ]
  },
  {
   "cell_type": "code",
   "execution_count": 17,
   "metadata": {
    "collapsed": false
   },
   "outputs": [],
   "source": [
    "import pickle\n",
    "\n",
    "training_data = pickle.load(open(\"data_set1.pickle\", \"rb\"))\n",
    "\n",
    "training_data = training_data/255.0"
   ]
  },
  {
   "cell_type": "code",
   "execution_count": 18,
   "metadata": {
    "collapsed": true
   },
   "outputs": [],
   "source": [
    "ruido_ph = tf.placeholder(tf.float32,[None, 100])"
   ]
  },
  {
   "cell_type": "code",
   "execution_count": 19,
   "metadata": {
    "collapsed": true
   },
   "outputs": [],
   "source": [
    "def gerador(ruido, reuse = None):\n",
    "    with tf.variable_scope('gerador', reuse = reuse):\n",
    "        #100 -> 128 -> 128 -> 784\n",
    "        camada_oculta1 = tf.nn.relu(tf.layers.dense(inputs = ruido, units=1280))\n",
    "        camada_oculta2 = tf.nn.relu(tf.layers.dense(inputs=camada_oculta1, units=1280))\n",
    "        camada_saida = tf.layers.dense(inputs = camada_oculta2, units = 9216, activation = tf.nn.tanh)\n",
    "        return camada_saida"
   ]
  },
  {
   "cell_type": "code",
   "execution_count": 20,
   "metadata": {
    "collapsed": true
   },
   "outputs": [],
   "source": [
    "imagens_reais_ph = tf.placeholder(tf.float32, [None, 9216])"
   ]
  },
  {
   "cell_type": "code",
   "execution_count": 21,
   "metadata": {
    "collapsed": true
   },
   "outputs": [],
   "source": [
    "def discriminador(X, reuse = None):\n",
    "    with tf.variable_scope('discriminador', reuse = reuse):\n",
    "        # 784 -> 128 -> 128 -> 1\n",
    "        camada_oculta1 = tf.nn.relu(tf.layers.dense(inputs = X, units = 1280))\n",
    "        camada_oculta2 = tf.nn.relu(tf.layers.dense(inputs = camada_oculta1, units = 1280))\n",
    "        logits = tf.layers.dense(camada_oculta2, units=1)\n",
    "        return logits"
   ]
  },
  {
   "cell_type": "code",
   "execution_count": 22,
   "metadata": {
    "collapsed": false
   },
   "outputs": [
    {
     "name": "stdout",
     "output_type": "stream",
     "text": [
      "WARNING:tensorflow:Entity <bound method Dense.call of <tensorflow.python.layers.core.Dense object at 0x7fe876ae0e10>> could not be transformed and will be executed as-is. Please report this to the AutgoGraph team. When filing the bug, set the verbosity to 10 (on Linux, `export AUTOGRAPH_VERBOSITY=10`) and attach the full output. Cause: converting <bound method Dense.call of <tensorflow.python.layers.core.Dense object at 0x7fe876ae0e10>>: AssertionError: Bad argument number for Name: 3, expecting 4\n",
      "WARNING: Entity <bound method Dense.call of <tensorflow.python.layers.core.Dense object at 0x7fe876ae0e10>> could not be transformed and will be executed as-is. Please report this to the AutgoGraph team. When filing the bug, set the verbosity to 10 (on Linux, `export AUTOGRAPH_VERBOSITY=10`) and attach the full output. Cause: converting <bound method Dense.call of <tensorflow.python.layers.core.Dense object at 0x7fe876ae0e10>>: AssertionError: Bad argument number for Name: 3, expecting 4\n",
      "WARNING:tensorflow:Entity <bound method Dense.call of <tensorflow.python.layers.core.Dense object at 0x7fe876ae0e10>> could not be transformed and will be executed as-is. Please report this to the AutgoGraph team. When filing the bug, set the verbosity to 10 (on Linux, `export AUTOGRAPH_VERBOSITY=10`) and attach the full output. Cause: converting <bound method Dense.call of <tensorflow.python.layers.core.Dense object at 0x7fe876ae0e10>>: AssertionError: Bad argument number for Name: 3, expecting 4\n",
      "WARNING: Entity <bound method Dense.call of <tensorflow.python.layers.core.Dense object at 0x7fe876ae0e10>> could not be transformed and will be executed as-is. Please report this to the AutgoGraph team. When filing the bug, set the verbosity to 10 (on Linux, `export AUTOGRAPH_VERBOSITY=10`) and attach the full output. Cause: converting <bound method Dense.call of <tensorflow.python.layers.core.Dense object at 0x7fe876ae0e10>>: AssertionError: Bad argument number for Name: 3, expecting 4\n",
      "WARNING:tensorflow:Entity <bound method Dense.call of <tensorflow.python.layers.core.Dense object at 0x7fe876ae0e10>> could not be transformed and will be executed as-is. Please report this to the AutgoGraph team. When filing the bug, set the verbosity to 10 (on Linux, `export AUTOGRAPH_VERBOSITY=10`) and attach the full output. Cause: converting <bound method Dense.call of <tensorflow.python.layers.core.Dense object at 0x7fe876ae0e10>>: AssertionError: Bad argument number for Name: 3, expecting 4\n",
      "WARNING: Entity <bound method Dense.call of <tensorflow.python.layers.core.Dense object at 0x7fe876ae0e10>> could not be transformed and will be executed as-is. Please report this to the AutgoGraph team. When filing the bug, set the verbosity to 10 (on Linux, `export AUTOGRAPH_VERBOSITY=10`) and attach the full output. Cause: converting <bound method Dense.call of <tensorflow.python.layers.core.Dense object at 0x7fe876ae0e10>>: AssertionError: Bad argument number for Name: 3, expecting 4\n",
      "WARNING:tensorflow:Entity <bound method Dense.call of <tensorflow.python.layers.core.Dense object at 0x7fe876ae0e80>> could not be transformed and will be executed as-is. Please report this to the AutgoGraph team. When filing the bug, set the verbosity to 10 (on Linux, `export AUTOGRAPH_VERBOSITY=10`) and attach the full output. Cause: converting <bound method Dense.call of <tensorflow.python.layers.core.Dense object at 0x7fe876ae0e80>>: AssertionError: Bad argument number for Name: 3, expecting 4\n",
      "WARNING: Entity <bound method Dense.call of <tensorflow.python.layers.core.Dense object at 0x7fe876ae0e80>> could not be transformed and will be executed as-is. Please report this to the AutgoGraph team. When filing the bug, set the verbosity to 10 (on Linux, `export AUTOGRAPH_VERBOSITY=10`) and attach the full output. Cause: converting <bound method Dense.call of <tensorflow.python.layers.core.Dense object at 0x7fe876ae0e80>>: AssertionError: Bad argument number for Name: 3, expecting 4\n",
      "WARNING:tensorflow:Entity <bound method Dense.call of <tensorflow.python.layers.core.Dense object at 0x7fe876ae0e80>> could not be transformed and will be executed as-is. Please report this to the AutgoGraph team. When filing the bug, set the verbosity to 10 (on Linux, `export AUTOGRAPH_VERBOSITY=10`) and attach the full output. Cause: converting <bound method Dense.call of <tensorflow.python.layers.core.Dense object at 0x7fe876ae0e80>>: AssertionError: Bad argument number for Name: 3, expecting 4\n",
      "WARNING: Entity <bound method Dense.call of <tensorflow.python.layers.core.Dense object at 0x7fe876ae0e80>> could not be transformed and will be executed as-is. Please report this to the AutgoGraph team. When filing the bug, set the verbosity to 10 (on Linux, `export AUTOGRAPH_VERBOSITY=10`) and attach the full output. Cause: converting <bound method Dense.call of <tensorflow.python.layers.core.Dense object at 0x7fe876ae0e80>>: AssertionError: Bad argument number for Name: 3, expecting 4\n",
      "WARNING:tensorflow:Entity <bound method Dense.call of <tensorflow.python.layers.core.Dense object at 0x7fe876ae0e80>> could not be transformed and will be executed as-is. Please report this to the AutgoGraph team. When filing the bug, set the verbosity to 10 (on Linux, `export AUTOGRAPH_VERBOSITY=10`) and attach the full output. Cause: converting <bound method Dense.call of <tensorflow.python.layers.core.Dense object at 0x7fe876ae0e80>>: AssertionError: Bad argument number for Name: 3, expecting 4\n",
      "WARNING: Entity <bound method Dense.call of <tensorflow.python.layers.core.Dense object at 0x7fe876ae0e80>> could not be transformed and will be executed as-is. Please report this to the AutgoGraph team. When filing the bug, set the verbosity to 10 (on Linux, `export AUTOGRAPH_VERBOSITY=10`) and attach the full output. Cause: converting <bound method Dense.call of <tensorflow.python.layers.core.Dense object at 0x7fe876ae0e80>>: AssertionError: Bad argument number for Name: 3, expecting 4\n",
      "WARNING:tensorflow:Entity <bound method Dense.call of <tensorflow.python.layers.core.Dense object at 0x7fe876ae0dd8>> could not be transformed and will be executed as-is. Please report this to the AutgoGraph team. When filing the bug, set the verbosity to 10 (on Linux, `export AUTOGRAPH_VERBOSITY=10`) and attach the full output. Cause: converting <bound method Dense.call of <tensorflow.python.layers.core.Dense object at 0x7fe876ae0dd8>>: AssertionError: Bad argument number for Name: 3, expecting 4\n",
      "WARNING: Entity <bound method Dense.call of <tensorflow.python.layers.core.Dense object at 0x7fe876ae0dd8>> could not be transformed and will be executed as-is. Please report this to the AutgoGraph team. When filing the bug, set the verbosity to 10 (on Linux, `export AUTOGRAPH_VERBOSITY=10`) and attach the full output. Cause: converting <bound method Dense.call of <tensorflow.python.layers.core.Dense object at 0x7fe876ae0dd8>>: AssertionError: Bad argument number for Name: 3, expecting 4\n",
      "WARNING:tensorflow:Entity <bound method Dense.call of <tensorflow.python.layers.core.Dense object at 0x7fe876f1c7b8>> could not be transformed and will be executed as-is. Please report this to the AutgoGraph team. When filing the bug, set the verbosity to 10 (on Linux, `export AUTOGRAPH_VERBOSITY=10`) and attach the full output. Cause: converting <bound method Dense.call of <tensorflow.python.layers.core.Dense object at 0x7fe876f1c7b8>>: AssertionError: Bad argument number for Name: 3, expecting 4\n",
      "WARNING: Entity <bound method Dense.call of <tensorflow.python.layers.core.Dense object at 0x7fe876f1c7b8>> could not be transformed and will be executed as-is. Please report this to the AutgoGraph team. When filing the bug, set the verbosity to 10 (on Linux, `export AUTOGRAPH_VERBOSITY=10`) and attach the full output. Cause: converting <bound method Dense.call of <tensorflow.python.layers.core.Dense object at 0x7fe876f1c7b8>>: AssertionError: Bad argument number for Name: 3, expecting 4\n",
      "WARNING:tensorflow:Entity <bound method Dense.call of <tensorflow.python.layers.core.Dense object at 0x7fe876f1c7b8>> could not be transformed and will be executed as-is. Please report this to the AutgoGraph team. When filing the bug, set the verbosity to 10 (on Linux, `export AUTOGRAPH_VERBOSITY=10`) and attach the full output. Cause: converting <bound method Dense.call of <tensorflow.python.layers.core.Dense object at 0x7fe876f1c7b8>>: AssertionError: Bad argument number for Name: 3, expecting 4\n",
      "WARNING: Entity <bound method Dense.call of <tensorflow.python.layers.core.Dense object at 0x7fe876f1c7b8>> could not be transformed and will be executed as-is. Please report this to the AutgoGraph team. When filing the bug, set the verbosity to 10 (on Linux, `export AUTOGRAPH_VERBOSITY=10`) and attach the full output. Cause: converting <bound method Dense.call of <tensorflow.python.layers.core.Dense object at 0x7fe876f1c7b8>>: AssertionError: Bad argument number for Name: 3, expecting 4\n"
     ]
    }
   ],
   "source": [
    "logits_imagens_reais = discriminador(imagens_reais_ph)\n",
    "logits_imagens_ruido = discriminador(gerador(ruido_ph), reuse = True)\n",
    "\n",
    "erro_discriminador_real = tf.reduce_mean(tf.nn.sigmoid_cross_entropy_with_logits(logits = logits_imagens_reais,\n",
    "                                                                                labels = tf.ones_like(logits_imagens_reais)*(0.9)))\n",
    "\n",
    "erro_discriminador_ruido = tf.reduce_mean(tf.nn.sigmoid_cross_entropy_with_logits(logits = logits_imagens_ruido,\n",
    "                                                                                 labels = tf.zeros_like(logits_imagens_ruido)))\n",
    "\n",
    "erro_discriminador = erro_discriminador_real + erro_discriminador_ruido\n",
    "\n",
    "erro_gerador = tf.reduce_mean(tf.nn.sigmoid_cross_entropy_with_logits(logits = logits_imagens_ruido,\n",
    "                                                                     labels = tf.ones_like(logits_imagens_ruido)))"
   ]
  },
  {
   "cell_type": "code",
   "execution_count": 23,
   "metadata": {
    "collapsed": true
   },
   "outputs": [],
   "source": [
    "variaveis = tf.trainable_variables()"
   ]
  },
  {
   "cell_type": "code",
   "execution_count": 24,
   "metadata": {
    "collapsed": true
   },
   "outputs": [],
   "source": [
    "variaveis_discriminador = [v for v in variaveis if 'discriminador' in v.name]"
   ]
  },
  {
   "cell_type": "code",
   "execution_count": 25,
   "metadata": {
    "collapsed": true
   },
   "outputs": [],
   "source": [
    "variaveis_gerador = [v for v in variaveis if 'gerador' in v.name]"
   ]
  },
  {
   "cell_type": "code",
   "execution_count": 26,
   "metadata": {
    "collapsed": false
   },
   "outputs": [],
   "source": [
    "treinamento_discriminador = tf.train.AdamOptimizer(learning_rate=0.001).minimize(erro_discriminador,\n",
    "                                                                                var_list = variaveis_discriminador)\n",
    "treinamento_gerador = tf.train.AdamOptimizer(learning_rate=0.001).minimize(erro_gerador, var_list=variaveis_gerador)"
   ]
  },
  {
   "cell_type": "code",
   "execution_count": 28,
   "metadata": {
    "collapsed": false,
    "scrolled": true
   },
   "outputs": [
    {
     "name": "stdout",
     "output_type": "stream",
     "text": [
      "época: 1 erro D: 1.9394418 erro G: 0.78958344\n",
      "época: 2 erro D: 1.3852102 erro G: 0.754883\n",
      "época: 3 erro D: 1.2866151 erro G: 0.73507863\n",
      "época: 4 erro D: 0.76148 erro G: 1.3111092\n",
      "época: 5 erro D: 1.0781369 erro G: 0.88202393\n",
      "época: 6 erro D: 0.80826116 erro G: 1.1985729\n",
      "época: 7 erro D: 0.7898452 erro G: 1.3500481\n",
      "época: 8 erro D: 0.55549085 erro G: 2.2035995\n",
      "época: 9 erro D: 0.648564 erro G: 2.0108016\n",
      "época: 10 erro D: 0.7428743 erro G: 1.9104128\n",
      "época: 11 erro D: 0.69706625 erro G: 3.1725311\n",
      "época: 12 erro D: 0.4805919 erro G: 3.0369232\n",
      "época: 13 erro D: 0.8150143 erro G: 1.3986764\n",
      "época: 14 erro D: 0.36802092 erro G: 5.592324\n",
      "época: 15 erro D: 0.36701986 erro G: 4.186406\n",
      "época: 16 erro D: 0.40567413 erro G: 4.020498\n",
      "época: 17 erro D: 0.37432364 erro G: 5.307334\n",
      "época: 18 erro D: 0.5143133 erro G: 5.5089216\n",
      "época: 19 erro D: 0.40900382 erro G: 4.3775344\n",
      "época: 20 erro D: 0.68845403 erro G: 2.7408588\n",
      "época: 21 erro D: 0.3816634 erro G: 6.4932337\n",
      "época: 22 erro D: 0.98061645 erro G: 1.2539811\n",
      "época: 23 erro D: 1.0779744 erro G: 1.9662147\n",
      "época: 24 erro D: 0.99838054 erro G: 4.7684197\n",
      "época: 25 erro D: 0.42112222 erro G: 6.6699867\n",
      "época: 26 erro D: 1.0894499 erro G: 1.3887076\n",
      "época: 27 erro D: 0.3752831 erro G: 5.073431\n",
      "época: 28 erro D: 0.48350006 erro G: 3.151329\n",
      "época: 29 erro D: 0.51273483 erro G: 3.985333\n",
      "época: 30 erro D: 0.7559844 erro G: 1.8026788\n",
      "época: 31 erro D: 0.5945895 erro G: 2.9225843\n",
      "época: 32 erro D: 1.4703844 erro G: 1.3265988\n",
      "época: 33 erro D: 0.64799964 erro G: 1.6889753\n",
      "época: 34 erro D: 0.74550754 erro G: 2.555107\n",
      "época: 35 erro D: 0.91600955 erro G: 1.8925325\n",
      "época: 36 erro D: 1.1292202 erro G: 1.0915267\n",
      "época: 37 erro D: 0.50160486 erro G: 3.2966154\n",
      "época: 38 erro D: 1.0678298 erro G: 1.0930161\n",
      "época: 39 erro D: 0.6219953 erro G: 2.4622207\n",
      "época: 40 erro D: 0.5247739 erro G: 2.8789403\n",
      "época: 41 erro D: 1.7746179 erro G: 0.30145913\n",
      "época: 42 erro D: 0.737111 erro G: 1.2759384\n",
      "época: 43 erro D: 0.77246624 erro G: 1.8841411\n",
      "época: 44 erro D: 0.613249 erro G: 1.9666901\n",
      "época: 45 erro D: 0.7885527 erro G: 1.7947077\n",
      "época: 46 erro D: 0.6239352 erro G: 1.8550595\n",
      "época: 47 erro D: 0.6144451 erro G: 2.0963829\n",
      "época: 48 erro D: 0.5577061 erro G: 2.4436967\n",
      "época: 49 erro D: 0.6898583 erro G: 2.5202343\n",
      "época: 50 erro D: 0.68060434 erro G: 1.7004154\n"
     ]
    }
   ],
   "source": [
    "batch_size =  100\n",
    "amostras_teste = []\n",
    "\n",
    "with tf.Session() as sess:\n",
    "    sess.run(tf.global_variables_initializer())\n",
    "    \n",
    "    #ruido_teste = np.random.uniform(-1, 1, size =(1,100))\n",
    "    #amostra = sess.run(gerador(ruido_ph, reuse=True), feed_dict = {ruido_ph: ruido_teste})\n",
    "    \n",
    "#     batch = mnist.train.next_batch(100)\n",
    "#     imagens_batch = batch[0].reshape((100, 784))\n",
    "#     imagens_batch = imagens_batch*2 - 1\n",
    "#     r = sess.run(discriminador(imagens_reais_ph, True), feed_dict = {imagens_reais_ph: imagens_batch})\n",
    "    \n",
    "    for epoca in range(50):\n",
    "        numero_batches = len(training_data) // batch_size\n",
    "        for i in range(numero_batches):\n",
    "            batch = training_data[batch_size*i:batch_size*i + batch_size]\n",
    "            imagens_batch = batch.reshape((batch_size,9216))\n",
    "            imagens_batch = imagens_batch * 2 - 1\n",
    "    \n",
    "            batch_ruido = np.random.uniform(-1, 1, size=(batch_size,100))\n",
    "        \n",
    "            _, custod = sess.run([treinamento_discriminador, erro_discriminador],\n",
    "                                  feed_dict  = {imagens_reais_ph: imagens_batch, ruido_ph: batch_ruido})\n",
    "            \n",
    "            _, custog = sess.run([treinamento_gerador, erro_gerador], feed_dict = {ruido_ph: batch_ruido})\n",
    "            \n",
    "        print('época: ' + str(epoca + 1) + ' erro D: '+str(custod)+' erro G: '+str(custog))\n",
    "        \n",
    "        if((epoca+1)%500 == 0):\n",
    "            # A cada 500 épocas, salva uma imagem\n",
    "            ruido_teste = np.random.uniform(-1, 1, size=(1,100))\n",
    "            imagem_gerada = sess.run(gerador(ruido_ph, reuse = True), feed_dict={ruido_ph: ruido_teste})\n",
    "\n",
    "            amostras_teste.append(imagem_gerada)\n",
    "    saver = tf.train.Saver()\n",
    "    saver.save(sess, 'discr_model')"
   ]
  },
  {
   "cell_type": "code",
   "execution_count": null,
   "metadata": {
    "collapsed": false
   },
   "outputs": [],
   "source": [
    "plt.imshow(amostras_teste[9].reshape(96,96), cmap = 'Greys')"
   ]
  },
  {
   "cell_type": "code",
   "execution_count": null,
   "metadata": {
    "collapsed": true
   },
   "outputs": [],
   "source": []
  }
 ],
 "metadata": {
  "kernelspec": {
   "display_name": "Python 3",
   "language": "python",
   "name": "python3"
  },
  "language_info": {
   "codemirror_mode": {
    "name": "ipython",
    "version": 3
   },
   "file_extension": ".py",
   "mimetype": "text/x-python",
   "name": "python",
   "nbconvert_exporter": "python",
   "pygments_lexer": "ipython3",
   "version": "3.6.0"
  }
 },
 "nbformat": 4,
 "nbformat_minor": 2
}
